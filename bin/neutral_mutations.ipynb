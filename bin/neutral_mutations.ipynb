{
 "cells": [
  {
   "cell_type": "markdown",
   "metadata": {},
   "source": [
    "# Bayesian analysis of neutrality probability of mutations\n",
    "\n",
    "Method based on that detailed at http://camdavidsonpilon.github.io/Probabilistic-Programming-and-Bayesian-Methods-for-Hackers/, modifying code from the challenger disaster example.\n",
    "\n",
    "First, import required modules"
   ]
  },
  {
   "cell_type": "code",
   "execution_count": 1,
   "metadata": {},
   "outputs": [
    {
     "name": "stderr",
     "output_type": "stream",
     "text": [
      "/Users/ally/.local/share/virtualenvs/hog-TxCN4_y4/lib/python3.6/site-packages/h5py/__init__.py:36: FutureWarning: Conversion of the second argument of issubdtype from `float` to `np.floating` is deprecated. In future, it will be treated as `np.float64 == np.dtype(float).type`.\n",
      "  from ._conv import register_converters as _register_converters\n"
     ]
    }
   ],
   "source": [
    "import pymc3 as pm\n",
    "import pandas as pd\n",
    "import numpy as np\n",
    "import theano.tensor as tt\n",
    "import matplotlib.pyplot as plt"
   ]
  },
  {
   "cell_type": "markdown",
   "metadata": {},
   "source": [
    "Next import the curated mutation data table, including the impact statistics from mutfunc. Then process the data to prepare it for analysis."
   ]
  },
  {
   "cell_type": "code",
   "execution_count": 2,
   "metadata": {},
   "outputs": [
    {
     "data": {
      "text/html": [
       "<div>\n",
       "<style scoped>\n",
       "    .dataframe tbody tr th:only-of-type {\n",
       "        vertical-align: middle;\n",
       "    }\n",
       "\n",
       "    .dataframe tbody tr th {\n",
       "        vertical-align: top;\n",
       "    }\n",
       "\n",
       "    .dataframe thead th {\n",
       "        text-align: right;\n",
       "    }\n",
       "</style>\n",
       "<table border=\"1\" class=\"dataframe\">\n",
       "  <thead>\n",
       "    <tr style=\"text-align: right;\">\n",
       "      <th></th>\n",
       "      <th>id</th>\n",
       "      <th>mut_id</th>\n",
       "      <th>ref_codon</th>\n",
       "      <th>alt_codon</th>\n",
       "      <th>pos_aa</th>\n",
       "      <th>ref_aa</th>\n",
       "      <th>alt_aa</th>\n",
       "      <th>gene</th>\n",
       "      <th>type</th>\n",
       "      <th>acc</th>\n",
       "      <th>...</th>\n",
       "      <th>foldx_evidence</th>\n",
       "      <th>foldx_int_ddG</th>\n",
       "      <th>foldx_int_ddG_sd</th>\n",
       "      <th>foldx_int_evidence</th>\n",
       "      <th>foldx_int_interactor</th>\n",
       "      <th>pho_prob</th>\n",
       "      <th>ptm_modification</th>\n",
       "      <th>tf_score_diff</th>\n",
       "      <th>tf_perc_diff</th>\n",
       "      <th>effect</th>\n",
       "    </tr>\n",
       "  </thead>\n",
       "  <tbody>\n",
       "    <tr>\n",
       "      <th>0</th>\n",
       "      <td>YDR123C R237Q</td>\n",
       "      <td>NaN</td>\n",
       "      <td>NaN</td>\n",
       "      <td>NaN</td>\n",
       "      <td>237</td>\n",
       "      <td>R</td>\n",
       "      <td>Q</td>\n",
       "      <td>YDR123C</td>\n",
       "      <td>genomic</td>\n",
       "      <td>P26798</td>\n",
       "      <td>...</td>\n",
       "      <td>NaN</td>\n",
       "      <td>NaN</td>\n",
       "      <td>NaN</td>\n",
       "      <td>NaN</td>\n",
       "      <td>NaN</td>\n",
       "      <td>NaN</td>\n",
       "      <td>NaN</td>\n",
       "      <td>NaN</td>\n",
       "      <td>NaN</td>\n",
       "      <td>1</td>\n",
       "    </tr>\n",
       "    <tr>\n",
       "      <th>1</th>\n",
       "      <td>YDR123C R273K</td>\n",
       "      <td>NaN</td>\n",
       "      <td>NaN</td>\n",
       "      <td>NaN</td>\n",
       "      <td>273</td>\n",
       "      <td>R</td>\n",
       "      <td>K</td>\n",
       "      <td>YDR123C</td>\n",
       "      <td>genomic</td>\n",
       "      <td>P26798</td>\n",
       "      <td>...</td>\n",
       "      <td>NaN</td>\n",
       "      <td>NaN</td>\n",
       "      <td>NaN</td>\n",
       "      <td>NaN</td>\n",
       "      <td>NaN</td>\n",
       "      <td>NaN</td>\n",
       "      <td>NaN</td>\n",
       "      <td>NaN</td>\n",
       "      <td>NaN</td>\n",
       "      <td>1</td>\n",
       "    </tr>\n",
       "    <tr>\n",
       "      <th>2</th>\n",
       "      <td>YDR123C P275L</td>\n",
       "      <td>NaN</td>\n",
       "      <td>NaN</td>\n",
       "      <td>NaN</td>\n",
       "      <td>275</td>\n",
       "      <td>P</td>\n",
       "      <td>L</td>\n",
       "      <td>YDR123C</td>\n",
       "      <td>genomic</td>\n",
       "      <td>P26798</td>\n",
       "      <td>...</td>\n",
       "      <td>NaN</td>\n",
       "      <td>NaN</td>\n",
       "      <td>NaN</td>\n",
       "      <td>NaN</td>\n",
       "      <td>NaN</td>\n",
       "      <td>NaN</td>\n",
       "      <td>NaN</td>\n",
       "      <td>NaN</td>\n",
       "      <td>NaN</td>\n",
       "      <td>1</td>\n",
       "    </tr>\n",
       "    <tr>\n",
       "      <th>3</th>\n",
       "      <td>YNR003C D171H</td>\n",
       "      <td>NaN</td>\n",
       "      <td>NaN</td>\n",
       "      <td>NaN</td>\n",
       "      <td>171</td>\n",
       "      <td>D</td>\n",
       "      <td>H</td>\n",
       "      <td>YNR003C</td>\n",
       "      <td>genomic</td>\n",
       "      <td>P32910</td>\n",
       "      <td>...</td>\n",
       "      <td>NaN</td>\n",
       "      <td>NaN</td>\n",
       "      <td>NaN</td>\n",
       "      <td>NaN</td>\n",
       "      <td>NaN</td>\n",
       "      <td>NaN</td>\n",
       "      <td>NaN</td>\n",
       "      <td>NaN</td>\n",
       "      <td>NaN</td>\n",
       "      <td>1</td>\n",
       "    </tr>\n",
       "    <tr>\n",
       "      <th>4</th>\n",
       "      <td>YNR003C K135A</td>\n",
       "      <td>NaN</td>\n",
       "      <td>NaN</td>\n",
       "      <td>NaN</td>\n",
       "      <td>135</td>\n",
       "      <td>K</td>\n",
       "      <td>A</td>\n",
       "      <td>YNR003C</td>\n",
       "      <td>genomic</td>\n",
       "      <td>P32910</td>\n",
       "      <td>...</td>\n",
       "      <td>NaN</td>\n",
       "      <td>NaN</td>\n",
       "      <td>NaN</td>\n",
       "      <td>NaN</td>\n",
       "      <td>NaN</td>\n",
       "      <td>NaN</td>\n",
       "      <td>NaN</td>\n",
       "      <td>NaN</td>\n",
       "      <td>NaN</td>\n",
       "      <td>1</td>\n",
       "    </tr>\n",
       "  </tbody>\n",
       "</table>\n",
       "<p>5 rows × 25 columns</p>\n",
       "</div>"
      ],
      "text/plain": [
       "              id  mut_id  ref_codon  alt_codon  pos_aa ref_aa alt_aa     gene  \\\n",
       "0  YDR123C R237Q     NaN        NaN        NaN     237      R      Q  YDR123C   \n",
       "1  YDR123C R273K     NaN        NaN        NaN     273      R      K  YDR123C   \n",
       "2  YDR123C P275L     NaN        NaN        NaN     275      P      L  YDR123C   \n",
       "3  YNR003C D171H     NaN        NaN        NaN     171      D      H  YNR003C   \n",
       "4  YNR003C K135A     NaN        NaN        NaN     135      K      A  YNR003C   \n",
       "\n",
       "      type     acc  ...    foldx_evidence  foldx_int_ddG  foldx_int_ddG_sd  \\\n",
       "0  genomic  P26798  ...               NaN            NaN               NaN   \n",
       "1  genomic  P26798  ...               NaN            NaN               NaN   \n",
       "2  genomic  P26798  ...               NaN            NaN               NaN   \n",
       "3  genomic  P32910  ...               NaN            NaN               NaN   \n",
       "4  genomic  P32910  ...               NaN            NaN               NaN   \n",
       "\n",
       "   foldx_int_evidence  foldx_int_interactor pho_prob  ptm_modification  \\\n",
       "0                 NaN                   NaN      NaN               NaN   \n",
       "1                 NaN                   NaN      NaN               NaN   \n",
       "2                 NaN                   NaN      NaN               NaN   \n",
       "3                 NaN                   NaN      NaN               NaN   \n",
       "4                 NaN                   NaN      NaN               NaN   \n",
       "\n",
       "   tf_score_diff tf_perc_diff effect  \n",
       "0            NaN          NaN      1  \n",
       "1            NaN          NaN      1  \n",
       "2            NaN          NaN      1  \n",
       "3            NaN          NaN      1  \n",
       "4            NaN          NaN      1  \n",
       "\n",
       "[5 rows x 25 columns]"
      ]
     },
     "execution_count": 2,
     "metadata": {},
     "output_type": "execute_result"
    }
   ],
   "source": [
    "impact = pd.read_table('../data/jelier.impact')\n",
    "## Add bits of panda processing (e.g. set mutation type)\n",
    "impact.head()"
   ]
  },
  {
   "cell_type": "markdown",
   "metadata": {},
   "source": [
    "## Relationship between SIFT score and Probability of neutrality"
   ]
  },
  {
   "cell_type": "code",
   "execution_count": 3,
   "metadata": {},
   "outputs": [
    {
     "data": {
      "image/png": "[encoded data removed]",
      "text/plain": [
       "<Figure size 432x288 with 1 Axes>"
      ]
     },
     "metadata": {},
     "output_type": "display_data"
    }
   ],
   "source": [
    "sift_data = impact[~np.isnan(impact.sift_score)]\n",
    "sift_data = sift_data.loc[:,[\"sift_score\",\"effect\"]]\n",
    "\n",
    "plt.scatter(sift_data.sift_score, sift_data.effect)\n",
    "plt.yticks([0, 1])\n",
    "plt.ylabel(\"Mutation Impact\")\n",
    "plt.xlabel(\"SIFT Score\")\n",
    "plt.title(\"Incidence of functional mutations with SIFT score\");"
   ]
  },
  {
   "cell_type": "markdown",
   "metadata": {},
   "source": [
    "We use the effset logistic distribution to model the probability:\n",
    "\n",
    "\\begin{equation}\n",
    "p = \\dfrac{1}{1 + e^{\\beta x + \\alpha}}\n",
    "\\end{equation}\n",
    "\n",
    "This gives two parameters to estimate, which can be done using MCMC."
   ]
  },
  {
   "cell_type": "code",
   "execution_count": 5,
   "metadata": {},
   "outputs": [
    {
     "name": "stderr",
     "output_type": "stream",
     "text": [
      "logp = -402.65, ||grad|| = 0.0042223: 100%|██████████| 13/13 [00:00<00:00, 1375.36it/s]  \n",
      "Multiprocess sampling (4 chains in 4 jobs)\n",
      "CompoundStep\n",
      ">Metropolis: [alpha]\n",
      ">Metropolis: [beta]\n",
      "100%|██████████| 120500/120500 [01:06<00:00, 1808.81it/s]\n",
      "The number of effective samples is smaller than 25% for some parameters.\n"
     ]
    }
   ],
   "source": [
    "sift_data = sift_data.sample(1000)\n",
    "\n",
    "with pm.Model() as model:\n",
    "    beta = pm.Normal(\"beta\", mu=0, tau=0.001, testval=0)\n",
    "    alpha = pm.Normal(\"alpha\", mu=0, tau=0.001, testval=0)\n",
    "    p = pm.Deterministic(\"p\", 1.0/(1. + tt.exp(beta*sift_data.sift_score + alpha)))\n",
    "    \n",
    "    observed = pm.Bernoulli(\"bernoulli_obs\", p, observed=sift_data.effect)\n",
    "    start = pm.find_MAP()\n",
    "    step = pm.Metropolis()\n",
    "    trace = pm.sample(120000, step=step, start=start, cores=1)\n",
    "    burned_trace = trace[100000::2]"
   ]
  },
  {
   "cell_type": "markdown",
   "metadata": {},
   "source": [
    "This gives us samples from the posterior of $\\alpha$ and $\\beta$"
   ]
  },
  {
   "cell_type": "code",
   "execution_count": 6,
   "metadata": {},
   "outputs": [
    {
     "data": {
      "image/png": "[encoded data removed]",
      "text/plain": [
       "<Figure size 432x288 with 2 Axes>"
      ]
     },
     "metadata": {},
     "output_type": "display_data"
    }
   ],
   "source": [
    "alpha_samples = burned_trace[\"alpha\"][:, None]\n",
    "beta_samples = burned_trace[\"beta\"][:, None]\n",
    "\n",
    "#histogram of the samples:\n",
    "plt.subplot(211)\n",
    "plt.title(r\"Posterior distributions of the variables $\\alpha, \\beta$\")\n",
    "plt.hist(beta_samples, histtype='stepfilled', bins=35, alpha=0.85,\n",
    "         label=r\"posterior of $\\beta$\", color=\"#7A68A6\", density=True)\n",
    "plt.legend()\n",
    "\n",
    "plt.subplot(212)\n",
    "plt.hist(alpha_samples, histtype='stepfilled', bins=35, alpha=0.85,\n",
    "         label=r\"posterior of $\\alpha$\", color=\"#A60628\", density=True)\n",
    "plt.legend();"
   ]
  },
  {
   "cell_type": "code",
   "execution_count": 7,
   "metadata": {},
   "outputs": [],
   "source": [
    "s = np.linspace(0, 1, 100)[:, None]\n",
    "p_s = 1.0 / (1 + np.exp(np.dot(beta_samples, s.T) + alpha_samples))\n",
    "\n",
    "mean_prob_s = p_s.mean(axis=0)"
   ]
  },
  {
   "cell_type": "code",
   "execution_count": 9,
   "metadata": {},
   "outputs": [
    {
     "data": {
      "image/png": "[encoded data removed]",
      "text/plain": [
       "<Figure size 432x288 with 1 Axes>"
      ]
     },
     "metadata": {},
     "output_type": "display_data"
    }
   ],
   "source": [
    "plt.plot(s, mean_prob_s)\n",
    "\n",
    "from scipy.stats.mstats import mquantiles\n",
    "\n",
    "qs = mquantiles(p_s, [0.025, 0.975], axis=0)\n",
    "plt.fill_between(s[:, 0], *qs, alpha=0.7,\n",
    "                 color=\"#7A68A6\")\n",
    "\n",
    "plt.scatter(sift_data.sift_score, sift_data.effect)\n",
    "\n",
    "plt.ylim(-0.1, 1.1)\n",
    "plt.xlim(-0.1, 1.1)\n",
    "plt.ylabel(\"Probability of Non Neutrality\")\n",
    "plt.xlabel(\"SIFT Score\")\n",
    "plt.title(\"Bayesian Neutral Probability\");"
   ]
  }
 ],
 "metadata": {
  "kernelspec": {
   "display_name": "Python 3",
   "language": "python",
   "name": "python3"
  },
  "language_info": {
   "codemirror_mode": {
    "name": "ipython",
    "version": 3
   },
   "file_extension": ".py",
   "mimetype": "text/x-python",
   "name": "python",
   "nbconvert_exporter": "python",
   "pygments_lexer": "ipython3",
   "version": "3.6.4"
  }
 },
 "nbformat": 4,
 "nbformat_minor": 2
}
